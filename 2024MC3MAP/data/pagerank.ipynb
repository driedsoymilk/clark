{
 "cells": [
  {
   "cell_type": "code",
   "execution_count": 1,
   "metadata": {},
   "outputs": [
    {
     "name": "stderr",
     "output_type": "stream",
     "text": [
      "/var/folders/5x/xz2xn6k92fzfkfdcl0qfcnsw0000gn/T/ipykernel_2508/1572751527.py:44: FutureWarning: 'M' is deprecated and will be removed in a future version, please use 'ME' instead.\n",
      "  time_range = pd.date_range(start='2032-01-01', end='2036-12-31', freq='M')\n"
     ]
    }
   ],
   "source": [
    "import json\n",
    "import pandas as pd\n",
    "import networkx as nx\n",
    "import matplotlib.pyplot as plt\n",
    "from datetime import datetime\n",
    "\n",
    "with open('subgraph_Thomas Carson_3_degrees.json', 'r') as file:\n",
    "    data = json.load(file)\n",
    "\n",
    "nodes = data['nodes']\n",
    "links = data['links']\n",
    "\n",
    "links_df = pd.DataFrame(links)\n",
    "links_df['start_date'] = pd.to_datetime(links_df['start_date'])\n",
    "links_df['end_date'] = pd.to_datetime(links_df['end_date'], errors='coerce')\n",
    "\n",
    "\n",
    "links_df['end_date'] = links_df['end_date'].fillna(pd.Timestamp('2036-12-31'))\n",
    "\n",
    "\n",
    "\n",
    "def simple_pagerank(G, alpha=0.85, max_iter=100, tol=1.0e-6):\n",
    "    nodes = list(G.nodes())\n",
    "    N = len(nodes)\n",
    "    if N == 0:\n",
    "        return {}\n",
    "\n",
    "    pagerank = {node: 1.0 / N for node in nodes}\n",
    "    \n",
    "    for _ in range(max_iter):\n",
    "        prev_pagerank = pagerank.copy()\n",
    "        for node in nodes:\n",
    "            rank_sum = 0\n",
    "            for pred in G.predecessors(node):\n",
    "                rank_sum += prev_pagerank[pred] / len(list(G.successors(pred)))\n",
    "            pagerank[node] = (1 - alpha) / N + alpha * rank_sum\n",
    "        \n",
    "        err = sum(abs(pagerank[node] - prev_pagerank[node]) for node in nodes)\n",
    "        if err < tol:\n",
    "            break\n",
    "\n",
    "    return pagerank\n",
    "\n",
    "time_range = pd.date_range(start='2032-01-01', end='2036-12-31', freq='M')\n",
    "\n",
    "pagerank_scores = {node['id']: [] for node in nodes}\n",
    "\n",
    "\n",
    "\n",
    "for current_time in time_range:\n",
    "    G = nx.DiGraph()\n",
    "    G.add_nodes_from([node['id'] for node in nodes])\n",
    "    \n",
    "    active_links = links_df[(links_df['start_date'] <= current_time) & (links_df['end_date'] >= current_time)]\n",
    "    for _, link in active_links.iterrows():\n",
    "        G.add_edge(link['source'], link['target'])\n",
    "    \n",
    "    pagerank = nx.pagerank(G)\n",
    "    \n",
    "    for node_id in pagerank_scores:\n",
    "        pagerank_scores[node_id].append(pagerank.get(node_id, 0))\n",
    "\n",
    "pagerank_df = pd.DataFrame(pagerank_scores, index=time_range)\n",
    "\n"
   ]
  },
  {
   "cell_type": "code",
   "execution_count": 2,
   "metadata": {},
   "outputs": [
    {
     "data": {
      "application/vnd.jupyter.widget-view+json": {
       "model_id": "7dd776851c7c46c980091a7a7bb7411d",
       "version_major": 2,
       "version_minor": 0
      },
      "text/plain": [
       "interactive(children=(SelectMultiple(description='Nodes:', options=('Fox, Chapman and Stone', 'Graham-Andrews'…"
      ]
     },
     "metadata": {},
     "output_type": "display_data"
    },
    {
     "data": {
      "text/plain": [
       "<function __main__.update_plot(selected_nodes)>"
      ]
     },
     "execution_count": 2,
     "metadata": {},
     "output_type": "execute_result"
    }
   ],
   "source": [
    "import ipywidgets as widgets\n",
    "from IPython.display import display\n",
    "\n",
    "\n",
    "def update_plot(selected_nodes):\n",
    "    fig, ax = plt.subplots(figsize=(14, 8))\n",
    "    for node_id in selected_nodes:\n",
    "        ax.plot(pagerank_df.index, pagerank_df[node_id], label=node_id)\n",
    "    ax.set_title(f'PageRank Scores Over Time for Selected Nodes')\n",
    "    ax.set_xlabel('Time')\n",
    "    ax.set_ylabel('PageRank Score')\n",
    "    ax.legend(title='Nodes')\n",
    "    #plt.axvline(pd.to_datetime('2035-09-02'), color = 'red', linestyle = '--', label = 'transfer day')\n",
    "    plt.tight_layout()\n",
    "    plt.show()\n",
    "\n",
    "\n",
    "node_multiselect = widgets.SelectMultiple(\n",
    "    options=pagerank_df.columns,\n",
    "    description='Nodes:',\n",
    "    disabled=False,\n",
    ")\n",
    "\n",
    "\n",
    "widgets.interact(update_plot, selected_nodes=node_multiselect)"
   ]
  }
 ],
 "metadata": {
  "kernelspec": {
   "display_name": "Python 3",
   "language": "python",
   "name": "python3"
  },
  "language_info": {
   "codemirror_mode": {
    "name": "ipython",
    "version": 3
   },
   "file_extension": ".py",
   "mimetype": "text/x-python",
   "name": "python",
   "nbconvert_exporter": "python",
   "pygments_lexer": "ipython3",
   "version": "3.12.4"
  }
 },
 "nbformat": 4,
 "nbformat_minor": 2
}
